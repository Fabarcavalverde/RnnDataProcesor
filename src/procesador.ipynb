{
 "cells": [
  {
   "metadata": {
    "ExecuteTime": {
     "end_time": "2025-07-02T04:00:17.153337Z",
     "start_time": "2025-07-02T04:00:16.493707Z"
    }
   },
   "cell_type": "code",
   "source": [
    "import pandas as pd\n",
    "\n",
    "archivo = r\"C:\\Users\\Fiorella Victoria\\PycharmProjects\\PythonProject12\\ESTIM_papa_2005-2025 (1).xls\"\n",
    "\n",
    "xls = pd.ExcelFile(archivo)\n",
    "hojas = xls.sheet_names\n",
    "\n",
    "nombres_interes = ['Turrialba', 'Oreamuno', 'El Guarco', 'Cartago', 'Alvarado']\n",
    "\n",
    "# Lista con todos los meses para renombrar\n",
    "meses = ['enero', 'febrero', 'marzo', 'abril', 'mayo', 'junio',\n",
    "         'julio', 'agosto', 'septiembre', 'octubre', 'noviembre', 'diciembre']\n",
    "\n",
    "lista_dfs = []\n",
    "\n",
    "for hoja in hojas:\n",
    "    # Leer hoja con encabezado en fila 6 (index=5)\n",
    "    df = pd.read_excel(archivo, sheet_name=hoja, header=5)\n",
    "\n",
    "    # Nombre de la primera columna (cantones)\n",
    "    nombre_columna_a = df.columns[0]\n",
    "\n",
    "    # Filtrar filas por cantones de interés\n",
    "    df_filtrado = df[df[nombre_columna_a].isin(nombres_interes)].copy()\n",
    "\n",
    "    # Armar lista de nuevos nombres:\n",
    "    # La primera columna es 'canton'\n",
    "    nuevos_nombres = ['canton']\n",
    "    for mes in meses:\n",
    "        nuevos_nombres.append(f'{mes}_produccion')\n",
    "        nuevos_nombres.append(f'{mes}_area')\n",
    "\n",
    "    # Cortar el DataFrame para que solo tenga la cantidad correcta de columnas (1 + 12*2 = 25)\n",
    "    df_filtrado = df_filtrado.iloc[:, :len(nuevos_nombres)]\n",
    "\n",
    "    # Asignar nuevos nombres a columnas\n",
    "    df_filtrado.columns = nuevos_nombres\n",
    "\n",
    "    # Agregar columna año para saber de qué hoja viene\n",
    "    df_filtrado['anio'] = hoja\n",
    "\n",
    "    lista_dfs.append(df_filtrado)\n",
    "\n",
    "# Concatenar todos los datos en un solo DataFrame\n",
    "df_todos = pd.concat(lista_dfs, ignore_index=True)\n",
    "\n",
    "# Exportar a CSV\n",
    "ruta_csv = r\"C:\\Users\\Fiorella Victoria\\PycharmProjects\\PythonProject12\\datos_papas_2005_2025.csv\"\n",
    "df_todos.to_csv(ruta_csv, index=False)\n",
    "\n",
    "print(f\"Archivo CSV guardado en: {ruta_csv}\")\n"
   ],
   "id": "18fec30142642141",
   "outputs": [
    {
     "name": "stdout",
     "output_type": "stream",
     "text": [
      "Archivo CSV guardado en: C:\\Users\\Fiorella Victoria\\PycharmProjects\\PythonProject12\\datos_papas_2005_2025.csv\n"
     ]
    }
   ],
   "execution_count": 71
  }
 ],
 "metadata": {
  "kernelspec": {
   "display_name": "Python 3",
   "language": "python",
   "name": "python3"
  },
  "language_info": {
   "codemirror_mode": {
    "name": "ipython",
    "version": 2
   },
   "file_extension": ".py",
   "mimetype": "text/x-python",
   "name": "python",
   "nbconvert_exporter": "python",
   "pygments_lexer": "ipython2",
   "version": "2.7.6"
  }
 },
 "nbformat": 4,
 "nbformat_minor": 5
}
